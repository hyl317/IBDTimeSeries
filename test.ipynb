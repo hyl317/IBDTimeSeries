{
 "cells": [
  {
   "cell_type": "code",
   "execution_count": 1,
   "metadata": {},
   "outputs": [],
   "source": [
    "from ts_utility import *"
   ]
  },
  {
   "cell_type": "code",
   "execution_count": 3,
   "metadata": {},
   "outputs": [
    {
     "name": "stdout",
     "output_type": "stream",
     "text": [
      "simulating tree seq done\n"
     ]
    }
   ],
   "source": [
    "ret = timeSampling_singlePop_MultiTP_cohort_chrom(1000, nSamples=[5,5,5], gaps=[0,20,50], chr=20, minLen=4.0, \\\n",
    "        record_full_arg=False, demography=None, random_seed=1)\n"
   ]
  },
  {
   "cell_type": "code",
   "execution_count": null,
   "metadata": {},
   "outputs": [],
   "source": [
    "ret = timeSampling_singlePop_MultiTP_cohort_ind(1000, nSamples=[5,5,5], gaps=[0,20,50], chr=range(1,23), minLen=4.0, \\\n",
    "        record_full_arg=False, demography=None, random_seed=1, nprocess=20)"
   ]
  },
  {
   "cell_type": "code",
   "execution_count": 9,
   "metadata": {},
   "outputs": [],
   "source": [
    "import pickle\n",
    "pickle.dump(ret, open('test.1000.ibds', 'wb'))"
   ]
  },
  {
   "cell_type": "code",
   "execution_count": 12,
   "metadata": {},
   "outputs": [
    {
     "data": {
      "text/plain": [
       "9765.19397459045"
      ]
     },
     "execution_count": 12,
     "metadata": {},
     "output_type": "execute_result"
    }
   ],
   "source": [
    "from analytic_multi import inferConstNe_singlePop_MultiTP\n",
    "import pickle\n",
    "\n",
    "ibds = pickle.load(open('test.1000.ibds', 'rb'))\n",
    "gaps={0:0, 1:20, 2:50}\n",
    "nSamples={0:5, 1:5, 2:5}\n",
    "inferConstNe_singlePop_MultiTP(ibds, gaps, nSamples, 5000, minL=4.0, maxL=20.0, step=0.1)\n",
    "\n"
   ]
  },
  {
   "cell_type": "markdown",
   "metadata": {},
   "source": [
    "# test tskit's internal IBD extractor"
   ]
  },
  {
   "cell_type": "code",
   "execution_count": 12,
   "metadata": {},
   "outputs": [],
   "source": [
    "import msprime\n",
    "from ts_utility import readHapMap, bp2Morgan\n",
    "\n",
    "path2Map = f\"/mnt/archgen/users/yilei/Data/Hapmap/genetic_map_GRCh37_chr20.txt\"\n",
    "recombMap = msprime.RateMap.read_hapmap(path2Map)\n",
    "bps, cMs = readHapMap(path2Map)\n",
    "\n",
    "ts = msprime.sim_ancestry(samples = 5, population_size=2.5e3, recombination_rate=recombMap, record_provenance=False, end_time=1e3)"
   ]
  },
  {
   "cell_type": "code",
   "execution_count": null,
   "metadata": {},
   "outputs": [],
   "source": [
    "segs = ts.ibd_segments(within=list(range(20)), max_time=1e3, store_pairs=True, store_segments=True)\n",
    "\n",
    "for pair, val in segs.items():\n",
    "    print(segs[pair])\n",
    "    for seg in segs[pair]:\n",
    "        print(seg)\n",
    "\n",
    "# for seg in segs[(0,1)]:\n",
    "#     bp1 = seg.left\n",
    "#     bp2 = seg.right\n",
    "#     cm1 = bp2Morgan(bp1, bps, cMs)\n",
    "#     cm2 = bp2Morgan(bp2, bps, cMs)\n",
    "#     #print(f'{bp2Morgan(bp1, bps, cMs)}({bp1}) - {bp2Morgan(bp2, bps, cMs)}({bp2})')\n",
    "#     print(f'{cm2-cm1}')"
   ]
  },
  {
   "cell_type": "code",
   "execution_count": null,
   "metadata": {},
   "outputs": [],
   "source": [
    "from ts_utility import ibd_segments_cohort\n",
    "print(ibd_segments_cohort(ts, 0, 1, bps, cMs, maxGen=1e3, minLen=0))"
   ]
  },
  {
   "cell_type": "code",
   "execution_count": null,
   "metadata": {},
   "outputs": [],
   "source": [
    "tree1 = ts.at(7705844)\n",
    "tree2 = ts.at(7712356)\n",
    "print(tree1.draw(format=\"unicode\"))\n",
    "print(tree2.draw(format=\"unicode\"))"
   ]
  },
  {
   "cell_type": "code",
   "execution_count": 16,
   "metadata": {},
   "outputs": [
    {
     "data": {
      "image/png": "[encoded data removed]",
      "text/plain": [
       "<Figure size 432x288 with 1 Axes>"
      ]
     },
     "metadata": {
      "needs_background": "light"
     },
     "output_type": "display_data"
    },
    {
     "name": "stdout",
     "output_type": "stream",
     "text": [
      "[0.70180272 0.70770742 0.7134952  0.71916838 0.72472922 0.73017994\n",
      " 0.73552274 0.74075974 0.74589304 0.7509247  0.75585672 0.76069108\n",
      " 0.76542971 0.77007451 0.77462734 0.77909002 0.78346433 0.78775203\n",
      " 0.79195482 0.79607439 0.80011239 0.80407043 0.80795009 0.81175293\n",
      " 0.81548048 0.81913421 0.82271559 0.82622606 0.82966701 0.83303983\n",
      " 0.83634586 0.83958643 0.84276283 0.84587634 0.84892819 0.85191961\n",
      " 0.8548518  0.85772593 0.86054314 0.86330457 0.86601133 0.86866448\n",
      " 0.8712651  0.87381422 0.87631286 0.87876203 0.88116271 0.88351584\n",
      " 0.88582238 0.88808325 0.89029935 0.89247157 0.89460078 0.89668782\n",
      " 0.89873354 0.90073875 0.90270425 0.90463084 0.90651927 0.90837032\n",
      " 0.91018471 0.91196317 0.91370641 0.91541514 0.91709003 0.91873176\n",
      " 0.92034098 0.92191833 0.92346445 0.92497996 0.92646546 0.92792154\n",
      " 0.92934879 0.93074777 0.93211906 0.93346319 0.93478071 0.93607214\n",
      " 0.937338   0.93857879 0.93979501 0.94098715 0.94215568 0.94330107\n",
      " 0.94442379 0.94552427 0.94660296 0.94766029 0.94869669 0.94971256\n",
      " 0.95070832 0.95168436 0.95264108 0.95357885 0.95449805 0.95539904\n",
      " 0.9562822  0.95714787 0.9579964  0.95882813 0.95964339 0.9604425\n",
      " 0.96122579 0.96199357 0.96274615 0.96348383 0.96420689 0.96491565\n",
      " 0.96561036 0.96629132 0.9669588  0.96761306 0.96825436 0.96888297\n",
      " 0.96949913 0.97010309 0.97069508 0.97127536 0.97184415 0.97240167\n",
      " 0.97294815 0.97348382 0.97400887 0.97452353 0.975028   0.97552248\n",
      " 0.97600716 0.97648225 0.97694794 0.9774044  0.97785182 0.97829038\n",
      " 0.97872026 0.97914163 0.97955465 0.9799595  0.98035633 0.9807453\n",
      " 0.98112657]\n"
     ]
    }
   ],
   "source": [
    "from tweakIBD_helper import POWER\n",
    "import numpy as np\n",
    "\n",
    "def power(x):\n",
    "    return 1 - np.exp(-0.2*x)\n",
    "\n",
    "bins = np.arange(0, 25, 0.1)\n",
    "binMid = (bins[1:]+bins[:-1])/2\n",
    "\n",
    "import matplotlib.pyplot as plt\n",
    "plt.plot(binMid, power(binMid))\n",
    "plt.show()\n",
    "\n",
    "bins = np.arange(6, 20, 0.1)\n",
    "binMid = (bins[1:]+bins[:-1])/2\n",
    "print(power(binMid))"
   ]
  },
  {
   "cell_type": "code",
   "execution_count": 1,
   "metadata": {},
   "outputs": [
    {
     "data": {
      "text/plain": [
       "<Figure size 432x288 with 0 Axes>"
      ]
     },
     "metadata": {},
     "output_type": "display_data"
    }
   ],
   "source": [
    "from plot import *\n",
    "import msprime\n",
    "\n",
    "minL = 4\n",
    "maxL = 25\n",
    "step = 0.25\n",
    "\n",
    "T = 35\n",
    "gap = 15\n",
    "mig = 0.01\n",
    "\n",
    "demo = msprime.Demography()\n",
    "demo.add_population(name=\"A\", initial_size=2000)\n",
    "demo.add_population(name=\"B\", initial_size=2000)\n",
    "demo.set_symmetric_migration_rate(['A', 'B'], mig)\n",
    "demo.add_population(name=\"AB\", initial_size=4000)\n",
    "demo.add_population_split(time=T, derived=[\"A\", \"B\"], ancestral=\"AB\")\n",
    "mig_prob = demo.debug().lineage_probabilities(np.arange(1, 1+gap), sample_time=0)[-1,:2,:2]\n",
    "\n",
    "demo = msprime.Demography()\n",
    "demo.add_population(name=\"A\", initial_size=2000)\n",
    "demo.add_population(name=\"B\", initial_size=2000)\n",
    "demo.set_symmetric_migration_rate(['A', 'B'], mig)\n",
    "demo.add_population(name=\"AB\", initial_size=4000)\n",
    "demo.add_population_split(time=T - gap, derived=[\"A\", \"B\"], ancestral=\"AB\")\n",
    "rate_AB, _ = demo.debug().coalescence_rate_trajectory(np.arange(1, 101), {'A':1, 'B':1})\n",
    "rate_BB, _ = demo.debug().coalescence_rate_trajectory(np.arange(1, 101), {'B':2})\n",
    "rates_sim = mig_prob[0,0]*rate_AB + mig_prob[0,1]*rate_BB\n",
    "\n",
    "\n",
    "\n",
    "\n",
    "mat = plotPosteriorTMRCA(rates_sim, minL=minL, maxL=maxL, step=step, outFolder=\".\")\n",
    "# plt.imshow(mat, cmap='viridis', aspect='auto')\n",
    "# plt.colorbar()\n",
    "# plt.xlabel('Segment Length (cM)')\n",
    "# plt.ylabel('TMRCA (generations backward in time)')\n",
    "# bins = np.arange(minL, maxL+step, step)\n",
    "# binMidpoint = (bins[1:]+bins[:-1])/2\n",
    "# xs = np.arange(0, len(binMidpoint), 10)\n",
    "# nbins =len(binMidpoint)\n",
    "# plt.xticks(xs, binMidpoint[xs], fontsize=6)\n",
    "# plt.savefig('test.pdf.png', dpi=300)\n",
    "# plt.clf()\n",
    "\n",
    "# ####### plot cumulative plot\n",
    "\n",
    "# mat_cdf = np.apply_along_axis(np.cumsum, 0, mat)\n",
    "\n",
    "# # 25% percentile curve\n",
    "# index_low = np.apply_along_axis(find_nearest, 0, mat_cdf, 0.025)\n",
    "# index_high = np.apply_along_axis(find_nearest, 0, mat_cdf, 0.975)\n",
    "# print(index_low)\n",
    "# print(index_high)\n",
    "\n",
    "# plt.imshow(mat_cdf, cmap='viridis', aspect='auto')\n",
    "# plt.colorbar()\n",
    "# plt.plot(np.arange(nbins), index_low, color='red', label='$2.5\\%$ and $97.5\\%$ percentile')\n",
    "# plt.plot(np.arange(nbins), index_high, color='red')\n",
    "# plt.xlabel('Segment Length (cM)')\n",
    "# plt.ylabel('TMRCA (generations backward in time)')\n",
    "# plt.legend(loc='lower right')\n",
    "# xs = np.arange(0, len(binMidpoint), 10)\n",
    "# plt.xticks(xs, binMidpoint[xs], fontsize=6)\n",
    "# plt.savefig('test.cdf.png', dpi=300)\n",
    "# plt.clf()\n"
   ]
  },
  {
   "cell_type": "code",
   "execution_count": 1,
   "metadata": {},
   "outputs": [
    {
     "name": "stderr",
     "output_type": "stream",
     "text": [
      "/mnt/archgen/users/yilei/IBD/timeSampling/ibdDemo/plot.py:235: UserWarning: This figure includes Axes that are not compatible with tight_layout, so results might be incorrect.\n",
      "  plt.savefig(f'{outFolder}/{prefix}.postTMRCA_cdf.png', dpi=300, bbox_inches = \"tight\")\n",
      "/mnt/archgen/users/yilei/IBD/timeSampling/ibdDemo/plot.py:236: UserWarning: This figure includes Axes that are not compatible with tight_layout, so results might be incorrect.\n",
      "  plt.savefig(f'{outFolder}/{prefix}.postTMRCA_cdf.pdf', bbox_inches = \"tight\")\n",
      "/mnt/archgen/users/yilei/IBD/timeSampling/ibdDemo/plot.py:236: UserWarning: This figure includes Axes that are not compatible with tight_layout, so results might be incorrect.\n",
      "  plt.savefig(f'{outFolder}/{prefix}.postTMRCA_cdf.pdf', bbox_inches = \"tight\")\n",
      "/mnt/archgen/users/yilei/IBD/timeSampling/ibdDemo/plot.py:279: UserWarning: This figure includes Axes that are not compatible with tight_layout, so results might be incorrect.\n",
      "  plt.savefig(f'{outFolder}/{prefix}.postTMRCA_pdf.png', dpi=300, bbox_inches = \"tight\")\n",
      "/mnt/archgen/users/yilei/IBD/timeSampling/ibdDemo/plot.py:280: UserWarning: This figure includes Axes that are not compatible with tight_layout, so results might be incorrect.\n",
      "  plt.savefig(f'{outFolder}/{prefix}.postTMRCA_pdf.pdf', bbox_inches = \"tight\")\n",
      "/mnt/archgen/users/yilei/IBD/timeSampling/ibdDemo/plot.py:280: UserWarning: This figure includes Axes that are not compatible with tight_layout, so results might be incorrect.\n",
      "  plt.savefig(f'{outFolder}/{prefix}.postTMRCA_pdf.pdf', bbox_inches = \"tight\")\n"
     ]
    },
    {
     "data": {
      "text/plain": [
       "<Figure size 432x288 with 0 Axes>"
      ]
     },
     "metadata": {},
     "output_type": "display_data"
    }
   ],
   "source": [
    "import numpy as np\n",
    "from plot import plot_pairwise_TMRCA\n",
    "\n",
    "gaps = {0:0, 1:15, 2:30, 3:40}\n",
    "plot_pairwise_TMRCA(gaps, 1e4*np.ones(150), 50, '.', prefix=\"pairwise\", minL=6.0, maxL=20.0, step=0.25)"
   ]
  },
  {
   "cell_type": "markdown",
   "metadata": {},
   "source": [
    "# test gradient function on cross-coalescent rate with error model"
   ]
  },
  {
   "cell_type": "code",
   "execution_count": 13,
   "metadata": {},
   "outputs": [
    {
     "name": "stdout",
     "output_type": "stream",
     "text": [
      "[-4911791.62054323 -4347172.76220908 -3776787.7074657  -3233551.97906494\n",
      " -2734991.53990997 -2291347.30034275 -1904739.29251311 -1573637.74633268\n",
      " -1293075.91123506 -1058175.25763996]\n",
      "[-4911792.26597307 -4347172.14809655 -3776785.42822906 -3233551.74205972\n",
      " -2734994.68855558 -2291348.36679735 -1904740.90415459 -1573637.98035413\n",
      " -1293074.86996174 -1058174.67020851]\n",
      "9.075995775464438\n"
     ]
    }
   ],
   "source": [
    "from analytic import twoPopIM_given_coalRate_withError, twoPopIM_given_vecCoalRates_negLoglik_noPenalty\n",
    "import numpy as np\n",
    "import scipy.stats\n",
    "\n",
    "binMidpoint = np.arange(4,20,0.1)\n",
    "histogram = np.random.randint(0, 100, size=len(binMidpoint))\n",
    "G = np.array([286.279, 268.840, 223.361, 214.688, 204.089, 192.040, 187.221, 168.003, 166.359, 181.144, 158.219, 174.679, 125.706, 120.203, 141.860, 134.038, 128.491, 117.709, 107.734, 108.267, 62.786, 74.110])\n",
    "Ne = np.random.randint(100, 10000, size=100).astype('float64')\n",
    "coalRate = 1/(2*Ne)\n",
    "\n",
    "# make some fake data about FP rate, power, and length bias\n",
    "POWER = 1 - 1/(1+0.077*np.square(binMidpoint)*np.exp(0.54*binMidpoint))\n",
    "FP = np.exp(-binMidpoint)\n",
    "nBins = len(binMidpoint)\n",
    "row = np.arange(nBins).reshape(1, nBins)\n",
    "col = np.arange(nBins).reshape(nBins, 1)\n",
    "R = scipy.stats.norm.pdf(row - col)\n",
    "\n",
    "npairs = 50\n",
    "_, grad_analytic = twoPopIM_given_vecCoalRates_negLoglik_noPenalty(coalRate, histogram, binMidpoint, G, npairs, 15, FP=FP, R=R, POWER=POWER)\n",
    "\n",
    "step=1e-12\n",
    "grad = np.zeros(100)\n",
    "for i in range(100):\n",
    "    coalRate1 = np.copy(coalRate)\n",
    "    coalRate2 = np.copy(coalRate)\n",
    "    coalRate1[i] -= step\n",
    "    coalRate2[i] += step\n",
    "    loglike1, _ = twoPopIM_given_vecCoalRates_negLoglik_noPenalty(coalRate1, histogram, binMidpoint, G, npairs, 15, FP=FP, R=R, POWER=POWER)\n",
    "    loglike2, _ = twoPopIM_given_vecCoalRates_negLoglik_noPenalty(coalRate2, histogram, binMidpoint, G, npairs, 15, FP=FP, R=R, POWER=POWER)\n",
    "    grad[i] = (loglike2 - loglike1)/(2*step)\n",
    "print(grad[:10])\n",
    "print(grad_analytic[:10])\n",
    "print(np.linalg.norm(grad-grad_analytic))"
   ]
  },
  {
   "cell_type": "code",
   "execution_count": 2,
   "metadata": {},
   "outputs": [],
   "source": [
    "from analytic_multi import inferVecNe_singlePop_MultiTP"
   ]
  },
  {
   "cell_type": "markdown",
   "metadata": {},
   "source": [
    "# plot for the simulated error model"
   ]
  },
  {
   "cell_type": "code",
   "execution_count": 20,
   "metadata": {},
   "outputs": [
    {
     "data": {
      "image/png": "[encoded data removed]",
      "text/plain": [
       "<Figure size 864x432 with 2 Axes>"
      ]
     },
     "metadata": {
      "needs_background": "light"
     },
     "output_type": "display_data"
    }
   ],
   "source": [
    "from tweakIBD_helper import FP, power2\n",
    "import numpy as np\n",
    "import matplotlib.pyplot as plt\n",
    "\n",
    "bins = np.arange(6, 20, 0.01)\n",
    "binmidpoint = (bins[1:]+bins[:-1])/2\n",
    "\n",
    "fig, axs = plt.subplots(1, 2, sharex=True, figsize=(12, 6), tight_layout=True)\n",
    "\n",
    "### false positive\n",
    "\n",
    "fp = 100*FP(binmidpoint)\n",
    "axs[0].plot(binmidpoint, fp)\n",
    "#axs[0].set_xlabel('IBD Segment Length')\n",
    "axs[0].set_ylabel('Simulated False Positive Rate', fontsize=16)\n",
    "\n",
    "### power\n",
    "power = power2(binmidpoint)\n",
    "axs[1].plot(binmidpoint, power)\n",
    "#axs[1].set_xlabel('IBD Segment Length')\n",
    "axs[1].set_ylabel('Power', fontsize=16)\n",
    "\n",
    "fig.text(0.5, 0.0, 'IBD Segment Length(cM)', fontsize=18, ha='center', va='center')\n",
    "plt.savefig('error_model_sim.png', dpi=300, bbox_inches = \"tight\")\n",
    "plt.savefig('error_model_sim.pdf', bbox_inches = \"tight\")"
   ]
  },
  {
   "attachments": {},
   "cell_type": "markdown",
   "metadata": {},
   "source": [
    "# test gradient function for the beta term with different weights for each summand"
   ]
  },
  {
   "cell_type": "code",
   "execution_count": 8,
   "metadata": {},
   "outputs": [],
   "source": [
    "import numpy as np\n",
    "from scipy.ndimage import shift\n",
    "\n",
    "\n",
    "def eval(x, weights):\n",
    "    assert(len(x) - len(weights) == 1)\n",
    "    return np.sum((np.diff(x, n=1)**2)*weights)\n",
    "\n",
    "def grad_analytic(x, weights):\n",
    "    assert(len(x) - len(weights) == 1)\n",
    "    grad = np.zeros_like(x)\n",
    "    grad[1:-1] = 2*weights[1:]*x[1:-1] + 2*weights[:-1]*x[1:-1] - 2*weights[:-1]*shift(x, 1)[1:-1] - 2*weights[1:]*shift(x, -1)[1:-1]\n",
    "    grad[0] = -2*weights[0]*(x[1] - x[0])\n",
    "    grad[-1] = 2*weights[-1]*(x[-1] - x[-2])\n",
    "    return grad\n",
    "\n",
    "def grad_empirical(x, weights):\n",
    "    grad = np.zeros_like(x)\n",
    "    for i in range(len(x)):\n",
    "        x1 = np.copy(x)\n",
    "        x1[i] += 1e-6\n",
    "        eval1 = eval(x1, weights)\n",
    "        x2 = np.copy(x)\n",
    "        x2[i] -= 1e-6\n",
    "        eval2 = eval(x2, weights)\n",
    "        grad[i] = (eval1 - eval2)/(2e-6)\n",
    "    return grad\n",
    "\n"
   ]
  },
  {
   "cell_type": "code",
   "execution_count": 10,
   "metadata": {},
   "outputs": [
    {
     "data": {
      "text/plain": [
       "0.002733780325247116"
      ]
     },
     "execution_count": 10,
     "metadata": {},
     "output_type": "execute_result"
    }
   ],
   "source": [
    "x = np.random.randint(100, 1000, size=100)\n",
    "x = x.astype(np.double)\n",
    "weights = np.random.rand(99)\n",
    "\n",
    "grad = grad_analytic(x, weights)\n",
    "grad_emp = grad_empirical(x, weights)\n",
    "\n",
    "np.linalg.norm(grad - grad_emp)"
   ]
  },
  {
   "cell_type": "code",
   "execution_count": 25,
   "metadata": {},
   "outputs": [
    {
     "data": {
      "text/plain": [
       "<matplotlib.legend.Legend at 0x7f100bde9700>"
      ]
     },
     "execution_count": 25,
     "metadata": {},
     "output_type": "execute_result"
    },
    {
     "data": {
      "image/png": "[encoded data removed]",
      "text/plain": [
       "<Figure size 432x288 with 1 Axes>"
      ]
     },
     "metadata": {
      "needs_background": "light"
     },
     "output_type": "display_data"
    }
   ],
   "source": [
    "from analytic import singlePop_2tp\n",
    "import numpy as np\n",
    "\n",
    "ls = np.arange(4, 10, 0.01)\n",
    "ibd0 = []\n",
    "ibd1 = []\n",
    "for l in ls:\n",
    "    # suppose on a chromosome of 2 morgen with diploid pop size 250\n",
    "    ibd0.append(singlePop_2tp(2.0, l/100, 0, 250))\n",
    "    ibd1.append(singlePop_2tp(2.0, l/100, 15, 250))\n",
    "\n",
    "import matplotlib.pyplot as plt\n",
    "plt.plot(ls, ibd0, label='no time gap')\n",
    "plt.plot(ls, ibd1, label='time gap by 15 generations')\n",
    "plt.legend(loc='upper right')"
   ]
  },
  {
   "cell_type": "code",
   "execution_count": 6,
   "metadata": {},
   "outputs": [
    {
     "name": "stderr",
     "output_type": "stream",
     "text": [
      "/tmp/ipykernel_3058079/182557605.py:2: DtypeWarning: Columns (14,15) have mixed types. Specify dtype option on import or set low_memory=False.\n",
      "  data = pd.read_csv('/mnt/archgen/users/yilei/IBDsim/realMosaicSim_1240k/v54.1_1240K_public.anno', sep='\\t')\n"
     ]
    },
    {
     "data": {
      "text/plain": [
       "(array([ 31.,  84., 188., 637., 907., 857., 472., 329., 192., 122.,  82.,\n",
       "         30.,  19.,  12.,   5.,   2.,   5.,   2.,   2.,   2.,   3.,   0.,\n",
       "          0.,   2.]),\n",
       " array([  0,  10,  20,  30,  40,  50,  60,  70,  80,  90, 100, 110, 120,\n",
       "        130, 140, 150, 160, 170, 180, 190, 200, 210, 220, 230, 240]),\n",
       " <a list of 24 Patch objects>)"
      ]
     },
     "execution_count": 6,
     "metadata": {},
     "output_type": "execute_result"
    },
    {
     "data": {
      "image/png": "[encoded data removed]",
      "text/plain": [
       "<Figure size 432x288 with 1 Axes>"
      ]
     },
     "metadata": {
      "needs_background": "light"
     },
     "output_type": "display_data"
    }
   ],
   "source": [
    "import pandas as pd\n",
    "data = pd.read_csv('/mnt/archgen/users/yilei/IBDsim/realMosaicSim_1240k/v54.1_1240K_public.anno', sep='\\t')\n",
    "data_cal20 = data[data['Method for Determining Date; unless otherwise specified, calibrations use 95.4% intervals from OxCal v4.4.2 Bronk Ramsey (2009); r5; Atmospheric data from Reimer et al (2020)'] == 'Direct: IntCal20']\n",
    "\n",
    "import matplotlib.pyplot as plt\n",
    "import numpy as np\n",
    "bins = np.arange(0,250,10)\n",
    "plt.hist(data_cal20['Date standard deviation in BP [OxCal sigma for a direct radiocarbon date, and standard deviation of the uniform distribution between the two bounds for a contextual date]'], bins=bins)"
   ]
  }
 ],
 "metadata": {
  "interpreter": {
   "hash": "31f2aee4e71d21fbe5cf8b01ff0e069b9275f58929596ceb00d14d90e3e16cd6"
  },
  "kernelspec": {
   "display_name": "Python 3.8.10 64-bit",
   "language": "python",
   "name": "python3"
  },
  "language_info": {
   "codemirror_mode": {
    "name": "ipython",
    "version": 3
   },
   "file_extension": ".py",
   "mimetype": "text/x-python",
   "name": "python",
   "nbconvert_exporter": "python",
   "pygments_lexer": "ipython3",
   "version": "3.8.10"
  },
  "orig_nbformat": 4
 },
 "nbformat": 4,
 "nbformat_minor": 2
}
